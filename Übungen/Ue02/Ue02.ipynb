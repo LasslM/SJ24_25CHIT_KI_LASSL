{
 "cells": [
  {
   "cell_type": "markdown",
   "id": "f736efb9-f953-4b34-b500-90655d89bd26",
   "metadata": {},
   "source": [
    "**Ue01 - 27.09.24 - Marius Lassl**"
   ]
  },
  {
   "cell_type": "code",
   "execution_count": 1,
   "id": "2cc94f20-9f37-446a-a05f-834b1d2847c9",
   "metadata": {},
   "outputs": [
    {
     "name": "stdout",
     "output_type": "stream",
     "text": [
      "{'/Author': 'Rechnungshof', '/CreationDate': \"D:20220422095428+02'00'\", '/Creator': 'Adobe InDesign 15.1 (Macintosh)', '/ModDate': \"D:20220422105104+02'00'\", '/Producer': 'Adobe PDF Library 15.0', '/Subject': 'GZ 2022-0.281.048 (004.920)', '/Title': 'Bericht des Rechnungshofes: Koordination der Cyber–Sicherheit', '/Trapped': '/False'}\n",
      "114\n"
     ]
    }
   ],
   "source": [
    "# documentation PyPDF: https://pypdf2.readthedocs.io/en/3.x/\n",
    "import PyPDF2 as pypdf\n",
    "\n",
    "with open ('Cyber-Sicherheit.pdf', 'rb') as pdf:\n",
    "    reader = pypdf.PdfReader(pdf)\n",
    "\n",
    "    # Doc-Info ausgeben\n",
    "    print(reader.metadata)\n",
    "\n",
    "    # Anzahl der Seiten ausgeben\n",
    "    print(len(reader.pages))"
   ]
  },
  {
   "cell_type": "markdown",
   "id": "fce973cf-7641-45a2-a1ff-927050b8012d",
   "metadata": {},
   "source": [
    "### 2.1 Generieren Sie basierend auf dem Rechnungshofbericht zum Thema „Koordination der Cyber-Sicherheit2“ folgenden Output: "
   ]
  },
  {
   "cell_type": "markdown",
   "id": "b0ff51d4-00eb-48b6-8f11-7ac3c289a339",
   "metadata": {},
   "source": [
    "Author: Rechnungshof Producer: Adobe PDF Library 15.0 Title: Bericht des Rechnungshofes: Koordination der Cyber–Sicherheit Hinweis: Die Verwendung von getDocumentInfo der Klasse PdfFileReader ist hierbei sicherlich kein Nachteil."
   ]
  },
  {
   "cell_type": "code",
   "execution_count": 35,
   "id": "fb759351-ef4b-4474-a1be-dadb8c13c722",
   "metadata": {},
   "outputs": [
    {
     "name": "stdout",
     "output_type": "stream",
     "text": [
      "Author: Rechnungshof Producer: Adobe PDF Library 15.0 Title: Bericht des Rechnungshofes: Koordination der Cyber–Sicherheit\n"
     ]
    }
   ],
   "source": [
    "with open ('Cyber-Sicherheit.pdf', 'rb') as pdf:\n",
    "    reader = pypdf.PdfReader(pdf)\n",
    "    meta = reader.metadata\n",
    "\n",
    "    print(\"Author: {} Producer: {} Title: {}\".format(meta.author, meta.producer, meta.title))"
   ]
  },
  {
   "cell_type": "markdown",
   "id": "f54015e0-a6d8-479f-bb0e-9c552a5e71eb",
   "metadata": {},
   "source": [
    "### 2.2 Erweitern Sie die Ausgabe dahingehend, dass … "
   ]
  },
  {
   "cell_type": "markdown",
   "id": "7ea694cb-6d18-41ae-a4ae-aab397aa3be5",
   "metadata": {},
   "source": [
    "'1) … der Text der ersten Seite ausgegeben wird. 2) … der gesamte Text ausgegeben wird. 3) … jede Seite des PDFs einer Liste hinzugefügt und am Ende ausgegeben wird. "
   ]
  },
  {
   "cell_type": "code",
   "execution_count": 19,
   "id": "5065c332-e72d-4fc5-a0ea-1734a9c86bbc",
   "metadata": {},
   "outputs": [],
   "source": [
    "import PyPDF2\n",
    "\n",
    "# Open the PDF file in binary mode\n",
    "with open('Cyber-Sicherheit.pdf', 'rb') as pdf:\n",
    "    reader = PyPDF2.PdfReader(pdf)\n",
    "\n",
    "    # 1)\n",
    "    first_page= reader.pages[0].extract_text()\n",
    "    #print(first_page)\n",
    "    \n",
    "    # 2)\n",
    "    all_pages = ''\n",
    "    for page in reader.pages:\n",
    "        all_pages += page.extract_text()\n",
    "    #print(all_pages)\n",
    "\n",
    "    # 3)\n",
    "    page_list = []\n",
    "    for page in reader.pages:\n",
    "        page_list.append(page.extract_text())\n",
    "    "
   ]
  },
  {
   "cell_type": "code",
   "execution_count": null,
   "id": "b7147623-a6d5-4af4-9a07-3ce90621f0d7",
   "metadata": {},
   "outputs": [],
   "source": []
  }
 ],
 "metadata": {
  "kernelspec": {
   "display_name": "Python 3 (ipykernel)",
   "language": "python",
   "name": "python3"
  },
  "language_info": {
   "codemirror_mode": {
    "name": "ipython",
    "version": 3
   },
   "file_extension": ".py",
   "mimetype": "text/x-python",
   "name": "python",
   "nbconvert_exporter": "python",
   "pygments_lexer": "ipython3",
   "version": "3.12.4"
  }
 },
 "nbformat": 4,
 "nbformat_minor": 5
}
