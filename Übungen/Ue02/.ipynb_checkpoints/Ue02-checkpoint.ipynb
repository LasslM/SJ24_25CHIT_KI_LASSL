{
 "cells": [
  {
   "cell_type": "markdown",
   "id": "f736efb9-f953-4b34-b500-90655d89bd26",
   "metadata": {},
   "source": [
    "**Ue01 - 27.09.24 - Marius Lassl**"
   ]
  },
  {
   "cell_type": "code",
   "execution_count": 3,
   "id": "2cc94f20-9f37-446a-a05f-834b1d2847c9",
   "metadata": {},
   "outputs": [
    {
     "name": "stdout",
     "output_type": "stream",
     "text": [
      "{'/Author': 'Rechnungshof', '/CreationDate': \"D:20220422095428+02'00'\", '/Creator': 'Adobe InDesign 15.1 (Macintosh)', '/ModDate': \"D:20220422105104+02'00'\", '/Producer': 'Adobe PDF Library 15.0', '/Subject': 'GZ 2022-0.281.048 (004.920)', '/Title': 'Bericht des Rechnungshofes: Koordination der Cyber–Sicherheit', '/Trapped': '/False'}\n",
      "114\n"
     ]
    }
   ],
   "source": [
    "# documentation PyPDF: https://pypdf2.readthedocs.io/en/3.x/\n",
    "import PyPDF2 as pypdf\n",
    "\n",
    "with open ('Cyber-Sicherheit.pdf', 'rb') as pdf:\n",
    "    reader = pypdf.PdfReader(pdf)\n",
    "\n",
    "    # Doc-Info ausgeben\n",
    "    print(reader.metadata)\n",
    "\n",
    "    # Anzahl der Seiten ausgeben\n",
    "    print(len(reader.pages))"
   ]
  },
  {
   "cell_type": "code",
   "execution_count": null,
   "id": "34993371-6607-4897-82f1-0908a415a770",
   "metadata": {},
   "outputs": [],
   "source": []
  }
 ],
 "metadata": {
  "kernelspec": {
   "display_name": "Python 3 (ipykernel)",
   "language": "python",
   "name": "python3"
  },
  "language_info": {
   "codemirror_mode": {
    "name": "ipython",
    "version": 3
   },
   "file_extension": ".py",
   "mimetype": "text/x-python",
   "name": "python",
   "nbconvert_exporter": "python",
   "pygments_lexer": "ipython3",
   "version": "3.12.4"
  }
 },
 "nbformat": 4,
 "nbformat_minor": 5
}
