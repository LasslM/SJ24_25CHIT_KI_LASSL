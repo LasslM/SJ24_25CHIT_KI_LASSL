{
 "cells": [
  {
   "cell_type": "code",
   "execution_count": null,
   "id": "f3e5789e-a86c-4b90-9f0f-3b0c06a63d99",
   "metadata": {},
   "outputs": [],
   "source": [
    "tweets_df['tokenized'] = tweets_df['tweets'].apply(word_tokenize)\n",
    "tweets_df"
   ]
  },
  {
   "cell_type": "code",
   "execution_count": null,
   "id": "6b94b35e-c3d2-41c5-8849-066eb2635d81",
   "metadata": {},
   "outputs": [],
   "source": [
    "import pandas as pd\n",
    "\n",
    "tweets = [\n",
    "    \"This is introduction to NLP\",\n",
    "    \"It is likely to be useful, to people\",\n",
    "    \"Machine learning is the new electricity\",\n",
    "    \"There would be less hype around AI and more action going forward\",\n",
    "    \"Python is the best tool!\",\n",
    "    \"R is a good language\",\n",
    "    \"I like this book\",\n",
    "    \"I want more books like this\"\n",
    "    ]\n",
    "\n",
    "new = []\n",
    "for t in tweets:\n",
    "    new.append(t.lower())\n",
    "\n",
    "df = pd.DataFrame(new, columns=['tweets'])\n",
    "df"
   ]
  },
  {
   "cell_type": "code",
   "execution_count": null,
   "id": "6fc1f2bf-83fa-42f3-b5f5-6dee28ec0b79",
   "metadata": {},
   "outputs": [],
   "source": [
    "import pandas as pd\n",
    "import re\n",
    "\n",
    "tweets = [\n",
    "    \"This is introduction to NLP\",\n",
    "    \"It is likely to be useful, to people\",\n",
    "    \"Machine learning is the new electricity\",\n",
    "    \"There would be less hype around AI and more action going forward\",\n",
    "    \"Python is the best tool!\",\n",
    "    \"R is a good language\",\n",
    "    \"I like this book\",\n",
    "    \"I want more books like this\"\n",
    "]\n",
    "\n",
    "# satzzeichen\n",
    "f_tweets = [re.sub(r'[^\\w\\s]', '', t.lower()) for t in tweets]\n",
    "\n",
    "tweets_df = pd.DataFrame(f_tweets, columns=['tweets'])\n",
    "\n",
    "# kleinschreibung\n",
    "tweets_df['normalized'] = tweets_df['tweets'].str.lower()\n",
    "\n",
    "tweets_df"
   ]
  },
  {
   "cell_type": "code",
   "execution_count": null,
   "id": "5418c993-7605-483b-ab79-7a618b7b7b50",
   "metadata": {},
   "outputs": [],
   "source": [
    "tweets_df['tokenized'] = tweets_df['tweets'].str.split()\n",
    "tweets_df"
   ]
  },
  {
   "cell_type": "code",
   "execution_count": null,
   "id": "ba34eb76-2042-48e2-829e-bff18da0df33",
   "metadata": {},
   "outputs": [],
   "source": []
  }
 ],
 "metadata": {
  "kernelspec": {
   "display_name": "Python 3 (ipykernel)",
   "language": "python",
   "name": "python3"
  },
  "language_info": {
   "codemirror_mode": {
    "name": "ipython",
    "version": 3
   },
   "file_extension": ".py",
   "mimetype": "text/x-python",
   "name": "python",
   "nbconvert_exporter": "python",
   "pygments_lexer": "ipython3",
   "version": "3.9.21"
  }
 },
 "nbformat": 4,
 "nbformat_minor": 5
}
